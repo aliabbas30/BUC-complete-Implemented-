{
  "nbformat": 4,
  "nbformat_minor": 0,
  "metadata": {
    "colab": {
      "name": "BUC done.ipynb",
      "provenance": []
    },
    "kernelspec": {
      "name": "python3",
      "display_name": "Python 3"
    },
    "language_info": {
      "name": "python"
    }
  },
  "cells": [
    {
      "cell_type": "code",
      "execution_count": 173,
      "metadata": {
        "id": "TinTt756yU5s"
      },
      "outputs": [],
      "source": [
        "import numpy as np\n",
        "import pandas as pd\n",
        "import matplotlib.pyplot as plt "
      ]
    },
    {
      "cell_type": "markdown",
      "source": [
        "  Data Loading \n",
        "  "
      ],
      "metadata": {
        "id": "3rqMTynJ2plR"
      }
    },
    {
      "cell_type": "code",
      "source": [
        "f =open(\"Product_Sales_Data_Set.csv\",'r')\n",
        "data =[] #All data\n",
        "for line in f:\n",
        "    line =line.replace(\"\\n\",\"\")\n",
        "    data.append(line.split(\",\"))\n",
        "f.close()"
      ],
      "metadata": {
        "id": "uUZdZ2vRy1s-"
      },
      "execution_count": 174,
      "outputs": []
    },
    {
      "cell_type": "markdown",
      "source": [
        "Data Cleaning "
      ],
      "metadata": {
        "id": "ygwSOssm2t8s"
      }
    },
    {
      "cell_type": "code",
      "source": [
        "data[0].remove(\"Item\")\n",
        "data[0].remove(\"Year\")\n",
        "data[0].remove(\"Location\")\n",
        "data[0].remove(\"Sales_Units\")\n",
        "data[0].remove(\"Supplier\")\n"
      ],
      "metadata": {
        "id": "DDXj1-_1TPeV"
      },
      "execution_count": 175,
      "outputs": []
    },
    {
      "cell_type": "code",
      "source": [
        "data.pop(0)"
      ],
      "metadata": {
        "colab": {
          "base_uri": "https://localhost:8080/"
        },
        "id": "VESoGwfMYJbc",
        "outputId": "4cc1df77-3d29-49ea-ed25-b5defd383bcd"
      },
      "execution_count": 176,
      "outputs": [
        {
          "output_type": "execute_result",
          "data": {
            "text/plain": [
              "[]"
            ]
          },
          "metadata": {},
          "execution_count": 176
        }
      ]
    },
    {
      "cell_type": "markdown",
      "source": [
        "Data Pre-processing "
      ],
      "metadata": {
        "id": "Jp08LLI42ybW"
      }
    },
    {
      "cell_type": "code",
      "source": [
        "min_sup=1\n",
        "numOfAllN=[0]*len(data[0]) #Array of the number of values ​​of all dimensions\n",
        "valueOfAllN=[]\n",
        "for j in range(len(numOfAllN)):\n",
        "    valueOfSingleN = [] # Single dimension value collection\n",
        "    for i in range(len(data)):\n",
        "        if(data[i][j] not in valueOfSingleN):\n",
        "            valueOfSingleN.append(data[i][j])\n",
        "    valueOfAllN.append(valueOfSingleN)\n",
        "    numOfAllN[j]=len(valueOfSingleN)\n",
        "print (numOfAllN) \n",
        "print (valueOfAllN)\n"
      ],
      "metadata": {
        "colab": {
          "base_uri": "https://localhost:8080/"
        },
        "id": "FTxQSJB_zi_M",
        "outputId": "459d62ca-eeae-4e6d-cdea-9a67b92dfbab"
      },
      "execution_count": 177,
      "outputs": [
        {
          "output_type": "stream",
          "name": "stdout",
          "text": [
            "[4, 4, 2, 4, 5]\n",
            "[['Computer', 'Camera', 'Phone', 'Printer'], ['Toronto', 'Vancouver', 'New York', 'Chicago'], ['2017', '2018'], ['Samsung', 'Sony', 'HP', 'Dell'], ['5', '1', '2', '4', '3']]\n"
          ]
        }
      ]
    },
    {
      "cell_type": "code",
      "source": [
        "valueOfAllN.pop(-1)"
      ],
      "metadata": {
        "colab": {
          "base_uri": "https://localhost:8080/"
        },
        "id": "4F3714weY80n",
        "outputId": "a48f4213-ed70-4dc2-ae75-5f7f7e7356df"
      },
      "execution_count": 178,
      "outputs": [
        {
          "output_type": "execute_result",
          "data": {
            "text/plain": [
              "['5', '1', '2', '4', '3']"
            ]
          },
          "metadata": {},
          "execution_count": 178
        }
      ]
    },
    {
      "cell_type": "markdown",
      "source": [
        "1-D BUC"
      ],
      "metadata": {
        "id": "dmEJ-CF528Is"
      }
    },
    {
      "cell_type": "code",
      "source": [
        "countlist = []\n",
        "for i in valueOfAllN[0]:\n",
        "  countlist.append(0)\n",
        "  for row in data:\n",
        "    if row[0] == i:\n",
        "      countlist[-1]+=int(row[-1])\n",
        "print(countlist)\n"
      ],
      "metadata": {
        "colab": {
          "base_uri": "https://localhost:8080/"
        },
        "id": "_GhQF0L_aj_O",
        "outputId": "ad73315b-37cd-4ac9-d8f1-04e29ec755a5"
      },
      "execution_count": 179,
      "outputs": [
        {
          "output_type": "stream",
          "name": "stdout",
          "text": [
            "[97, 93, 96, 92]\n"
          ]
        }
      ]
    },
    {
      "cell_type": "code",
      "source": [
        "countlist1 = []\n",
        "for i in valueOfAllN[1]:\n",
        "  countlist1.append(0)\n",
        "  for row in data:\n",
        "    if row[1] == i:\n",
        "      countlist1[-1]+=int(row[-1])\n",
        "print(countlist1)\n"
      ],
      "metadata": {
        "colab": {
          "base_uri": "https://localhost:8080/"
        },
        "id": "3spW0mfVyF5D",
        "outputId": "6012b1e9-4dcf-443f-8202-30f0a9a42d74"
      },
      "execution_count": 180,
      "outputs": [
        {
          "output_type": "stream",
          "name": "stdout",
          "text": [
            "[94, 87, 96, 101]\n"
          ]
        }
      ]
    },
    {
      "cell_type": "code",
      "source": [
        "countlist2 = []\n",
        "for i in valueOfAllN[2]:\n",
        "  countlist2.append(0)\n",
        "  for row in data:\n",
        "    if row[2] == i:\n",
        "      countlist2[-1]+=int(row[-1])\n",
        "print(countlist2)\n"
      ],
      "metadata": {
        "colab": {
          "base_uri": "https://localhost:8080/"
        },
        "id": "im_0SRQJyRCf",
        "outputId": "29a262e9-ada7-4130-de7f-a56474c54e93"
      },
      "execution_count": 181,
      "outputs": [
        {
          "output_type": "stream",
          "name": "stdout",
          "text": [
            "[192, 186]\n"
          ]
        }
      ]
    },
    {
      "cell_type": "code",
      "source": [
        "countlist3 = []\n",
        "for i in valueOfAllN[3]:\n",
        "  countlist3.append(0)\n",
        "  for row in data:\n",
        "    if row[3] == i:\n",
        "      countlist3[-1]+=int(row[-1])\n",
        "print(countlist3)"
      ],
      "metadata": {
        "colab": {
          "base_uri": "https://localhost:8080/"
        },
        "id": "86egaqZWyeF0",
        "outputId": "15db9f9a-2df8-4f9b-e518-de3579fa8120"
      },
      "execution_count": 182,
      "outputs": [
        {
          "output_type": "stream",
          "name": "stdout",
          "text": [
            "[86, 103, 88, 101]\n"
          ]
        }
      ]
    },
    {
      "cell_type": "markdown",
      "source": [
        "4-D BUC"
      ],
      "metadata": {
        "id": "f_-vXy6a3Nkt"
      }
    },
    {
      "cell_type": "code",
      "source": [
        "count4d = []\n",
        "index1 = index2 = index3 = index4 = 0 \n",
        "da_i=0\n",
        "for item in valueOfAllN[0]:\n",
        "  temp = []\n",
        "  count4d.append(temp)\n",
        "  index2 = 0\n",
        "  for loc in valueOfAllN[1]:\n",
        "    temp1 = []\n",
        "    count4d[index1].append(temp1)\n",
        "    \n",
        "    index3 = 0\n",
        "    for year in valueOfAllN[2]:\n",
        "      temp2 = []\n",
        "      count4d[index1][index2].append(temp2)\n",
        "      index4 = 0\n",
        "      for company in valueOfAllN[3]:\n",
        "        y = int(data[da_i][4])\n",
        "        da_i+=1\n",
        "        count4d[index1][index2][index3].append(0)\n",
        "        \n",
        "        index4+=1\n",
        "      index3+=1\n",
        "    index2+=1\n",
        "  index1+=1\n",
        "\n",
        "print(count4d)"
      ],
      "metadata": {
        "colab": {
          "base_uri": "https://localhost:8080/"
        },
        "id": "KfC3RY8Ydf2O",
        "outputId": "aef03c3e-e6df-451e-e0a4-63de3e388263"
      },
      "execution_count": 183,
      "outputs": [
        {
          "output_type": "stream",
          "name": "stdout",
          "text": [
            "[[[[0, 0, 0, 0], [0, 0, 0, 0]], [[0, 0, 0, 0], [0, 0, 0, 0]], [[0, 0, 0, 0], [0, 0, 0, 0]], [[0, 0, 0, 0], [0, 0, 0, 0]]], [[[0, 0, 0, 0], [0, 0, 0, 0]], [[0, 0, 0, 0], [0, 0, 0, 0]], [[0, 0, 0, 0], [0, 0, 0, 0]], [[0, 0, 0, 0], [0, 0, 0, 0]]], [[[0, 0, 0, 0], [0, 0, 0, 0]], [[0, 0, 0, 0], [0, 0, 0, 0]], [[0, 0, 0, 0], [0, 0, 0, 0]], [[0, 0, 0, 0], [0, 0, 0, 0]]], [[[0, 0, 0, 0], [0, 0, 0, 0]], [[0, 0, 0, 0], [0, 0, 0, 0]], [[0, 0, 0, 0], [0, 0, 0, 0]], [[0, 0, 0, 0], [0, 0, 0, 0]]]]\n"
          ]
        }
      ]
    },
    {
      "cell_type": "code",
      "source": [
        "for d1 in data:\n",
        "  x1 = d1[0]\n",
        "  x2 = d1[1]\n",
        "  x3 = d1[2]\n",
        "  x4 = d1[3]\n",
        "  itemi = 0\n",
        "  loci = 0\n",
        "  yeari = 0\n",
        "  compi = 0\n",
        "  for ix in valueOfAllN[0]:\n",
        "    if ix==x1:\n",
        "      break\n",
        "    itemi+=1\n",
        "  for lx in valueOfAllN[1]:\n",
        "    if lx==x2:\n",
        "      break\n",
        "    loci+=1\n",
        "\n",
        "  for yi in valueOfAllN[2]:\n",
        "    if yi==x3:\n",
        "      break\n",
        "    yeari+=1\n",
        "\n",
        "  for zi in valueOfAllN[3]:\n",
        "    if zi==x4:\n",
        "      break\n",
        "    compi+=1\n",
        "\n",
        "  count4d[itemi][loci][yeari][compi]+=int(d1[4])\n",
        "#print(count4d[1][1][1][1])\n",
        "\n",
        "\n",
        "\n",
        "\n",
        " \n"
      ],
      "metadata": {
        "id": "KUC-1mcRsMKi"
      },
      "execution_count": 184,
      "outputs": []
    },
    {
      "cell_type": "code",
      "source": [
        "#print(count4d[0][0][0][0])\n",
        "for i in range(0,4):\n",
        "  for j in range(0,4):\n",
        "    for k in range(0,2):\n",
        "      for l in range(0,4): \n",
        "        if count4d[i][j][k][l]>=4: \n",
        "          print(count4d[i][j][k][l])\n",
        "          print(count4d[i][j][k][l])\n",
        "\n"
      ],
      "metadata": {
        "colab": {
          "base_uri": "https://localhost:8080/"
        },
        "id": "jF5IU7tNENx5",
        "outputId": "2b8231e4-768c-4001-99da-eb24b60142e4"
      },
      "execution_count": 185,
      "outputs": [
        {
          "output_type": "stream",
          "name": "stdout",
          "text": [
            "5\n",
            "5\n",
            "4\n",
            "4\n",
            "5\n",
            "5\n",
            "5\n",
            "5\n",
            "5\n",
            "5\n",
            "4\n",
            "4\n",
            "5\n",
            "5\n",
            "5\n",
            "5\n",
            "5\n",
            "5\n",
            "5\n",
            "5\n",
            "4\n",
            "4\n",
            "4\n",
            "4\n",
            "5\n",
            "5\n",
            "5\n",
            "5\n",
            "4\n",
            "4\n",
            "4\n",
            "4\n",
            "4\n",
            "4\n",
            "4\n",
            "4\n",
            "5\n",
            "5\n",
            "4\n",
            "4\n",
            "4\n",
            "4\n",
            "4\n",
            "4\n",
            "5\n",
            "5\n",
            "5\n",
            "5\n",
            "5\n",
            "5\n",
            "5\n",
            "5\n",
            "4\n",
            "4\n",
            "4\n",
            "4\n",
            "5\n",
            "5\n",
            "5\n",
            "5\n",
            "5\n",
            "5\n",
            "5\n",
            "5\n",
            "5\n",
            "5\n",
            "4\n",
            "4\n",
            "4\n",
            "4\n",
            "4\n",
            "4\n",
            "4\n",
            "4\n",
            "4\n",
            "4\n",
            "4\n",
            "4\n",
            "5\n",
            "5\n",
            "4\n",
            "4\n",
            "5\n",
            "5\n",
            "5\n",
            "5\n",
            "5\n",
            "5\n",
            "5\n",
            "5\n",
            "5\n",
            "5\n"
          ]
        }
      ]
    },
    {
      "cell_type": "code",
      "source": [
        ""
      ],
      "metadata": {
        "id": "bRHFpVKQBA61"
      },
      "execution_count": 185,
      "outputs": []
    },
    {
      "cell_type": "markdown",
      "source": [
        "3-D"
      ],
      "metadata": {
        "id": "zsA2YZTT35-4"
      }
    },
    {
      "cell_type": "code",
      "source": [
        "count3d = []\n",
        "index1 = index2 = index3 = 0 \n",
        "da_i=0\n",
        "for item in valueOfAllN[0]:\n",
        "  temp = []\n",
        "  count3d.append(temp)\n",
        "  index2 = 0\n",
        "  for loc in valueOfAllN[1]:\n",
        "    temp1 = []\n",
        "    count3d[index1].append(temp1)\n",
        "    \n",
        "    index3 = 0\n",
        "    for year in valueOfAllN[2]:\n",
        "      temp2 = []\n",
        "      count3d[index1][index2].append(0)\n",
        "\n",
        "        \n",
        "        \n",
        "      index3+=1\n",
        "    index2+=1\n",
        "  index1+=1\n",
        "print(count3d)"
      ],
      "metadata": {
        "colab": {
          "base_uri": "https://localhost:8080/"
        },
        "id": "qwcYICIa1Uve",
        "outputId": "dfaa3d6a-36a2-4237-adbc-e00eb1bfbbdb"
      },
      "execution_count": 186,
      "outputs": [
        {
          "output_type": "stream",
          "name": "stdout",
          "text": [
            "[[[0, 0], [0, 0], [0, 0], [0, 0]], [[0, 0], [0, 0], [0, 0], [0, 0]], [[0, 0], [0, 0], [0, 0], [0, 0]], [[0, 0], [0, 0], [0, 0], [0, 0]]]\n"
          ]
        }
      ]
    },
    {
      "cell_type": "code",
      "source": [
        "for d2 in data:\n",
        "  x1 = d2[0]\n",
        "  x2 = d2[1]\n",
        "  x3 = d2[2]\n",
        "  itemi = 0\n",
        "  loci = 0\n",
        "  yeari = 0\n",
        "  for ix in valueOfAllN[0]:\n",
        "    if ix==x1:\n",
        "      break\n",
        "    itemi+=1\n",
        "  for lx in valueOfAllN[1]:\n",
        "    if lx==x2:\n",
        "      break\n",
        "    loci+=1\n",
        "\n",
        "  for yi in valueOfAllN[2]:\n",
        "    if yi==x3:\n",
        "      break\n",
        "    yeari+=1\n",
        "\n",
        "\n",
        "  count3d[itemi][loci][yeari]+=int(d2[4])\n",
        "#print(count4d[1][1][1][1])  \n",
        "\n",
        "count3d[0][0][0]\n",
        "\n",
        "\n"
      ],
      "metadata": {
        "colab": {
          "base_uri": "https://localhost:8080/"
        },
        "id": "FOPtsLvB05UP",
        "outputId": "077f2a72-bdb1-4668-a1ed-54093fae282d"
      },
      "execution_count": 187,
      "outputs": [
        {
          "output_type": "execute_result",
          "data": {
            "text/plain": [
              "12"
            ]
          },
          "metadata": {},
          "execution_count": 187
        }
      ]
    },
    {
      "cell_type": "code",
      "source": [
        "#print(count4d[0][0][0][0])\n",
        "for i in range(0,4):\n",
        "  for j in range(0,4):\n",
        "    for k in range(0,2): \n",
        "        if count3d[i][j][k]>=0: \n",
        "          print(count4d[i][j][k])\n",
        "          "
      ],
      "metadata": {
        "colab": {
          "base_uri": "https://localhost:8080/"
        },
        "id": "Dg6Og5bWGywr",
        "outputId": "7d219666-c611-46a4-c686-1085e4991bb9"
      },
      "execution_count": 188,
      "outputs": [
        {
          "output_type": "stream",
          "name": "stdout",
          "text": [
            "[5, 1, 2, 4]\n",
            "[3, 1, 3, 2]\n",
            "[2, 5, 1, 2]\n",
            "[2, 5, 1, 2]\n",
            "[3, 2, 5, 4]\n",
            "[3, 5, 5, 2]\n",
            "[1, 5, 2, 5]\n",
            "[4, 4, 5, 1]\n",
            "[1, 3, 5, 4]\n",
            "[1, 4, 4, 3]\n",
            "[4, 3, 3, 1]\n",
            "[5, 1, 1, 4]\n",
            "[3, 2, 3, 4]\n",
            "[2, 2, 3, 2]\n",
            "[4, 2, 5, 3]\n",
            "[2, 3, 1, 5]\n",
            "[1, 2, 5, 5]\n",
            "[2, 4, 3, 3]\n",
            "[2, 3, 3, 4]\n",
            "[1, 5, 2, 2]\n",
            "[3, 3, 2, 1]\n",
            "[5, 2, 5, 1]\n",
            "[2, 3, 2, 5]\n",
            "[5, 4, 2, 4]\n",
            "[3, 4, 2, 4]\n",
            "[3, 3, 1, 3]\n",
            "[1, 4, 4, 3]\n",
            "[5, 1, 1, 4]\n",
            "[1, 5, 2, 3]\n",
            "[1, 5, 2, 5]\n",
            "[3, 2, 1, 5]\n",
            "[3, 5, 2, 1]\n"
          ]
        }
      ]
    },
    {
      "cell_type": "markdown",
      "source": [
        "    2-D BUC \n",
        "    "
      ],
      "metadata": {
        "id": "IBpR0mCt4onF"
      }
    },
    {
      "cell_type": "code",
      "source": [
        "count2d = []\n",
        "index1 = index2 = 0 \n",
        "da_i=0\n",
        "for item in valueOfAllN[0]:\n",
        "  temp = []\n",
        "  count2d.append(temp)\n",
        "  index2 = 0\n",
        "  for loc in valueOfAllN[1]:\n",
        "    temp1 = []\n",
        "    count2d[index1].append(0)\n",
        "   \n",
        "\n",
        "        \n",
        "        \n",
        "      \n",
        "    index2+=1\n",
        "  index1+=1\n",
        "print(count2d)"
      ],
      "metadata": {
        "colab": {
          "base_uri": "https://localhost:8080/"
        },
        "id": "oBV3Wrrj4t8a",
        "outputId": "e2bb2920-82d2-44a2-e0ad-57f25f2eca3a"
      },
      "execution_count": 189,
      "outputs": [
        {
          "output_type": "stream",
          "name": "stdout",
          "text": [
            "[[0, 0, 0, 0], [0, 0, 0, 0], [0, 0, 0, 0], [0, 0, 0, 0]]\n"
          ]
        }
      ]
    },
    {
      "cell_type": "code",
      "source": [
        "for d3 in data:\n",
        "  x1 = d3[0]\n",
        "  x2 = d3[1]\n",
        "  x3 = d3[2]\n",
        "  itemi = 0\n",
        "  loci = 0\n",
        "  yeari = 0\n",
        "  for ix in valueOfAllN[0]:\n",
        "    if ix==x1:\n",
        "      break\n",
        "    itemi+=1\n",
        "  for lx in valueOfAllN[1]:\n",
        "    if lx==x2:\n",
        "      break\n",
        "    loci+=1\n",
        "\n",
        "  for yi in valueOfAllN[2]:\n",
        "    if yi==x3:\n",
        "      break\n",
        "    yeari+=1\n",
        "\n",
        "\n",
        "  count2d[itemi][loci]+=int(d3[4])\n",
        "#print(count2d[1][1])  \n",
        "\n",
        "count2d[1][0]\n",
        "\n"
      ],
      "metadata": {
        "colab": {
          "base_uri": "https://localhost:8080/"
        },
        "id": "Xm7-Q6Vq4_dZ",
        "outputId": "771f8e16-5a28-4d7f-c57f-db8ad9b9204a"
      },
      "execution_count": 190,
      "outputs": [
        {
          "output_type": "execute_result",
          "data": {
            "text/plain": [
              "25"
            ]
          },
          "metadata": {},
          "execution_count": 190
        }
      ]
    },
    {
      "cell_type": "code",
      "source": [
        "#print(count4d[0][0][0][0])\n",
        "for i in range(0,4):\n",
        "  for j in range(0,4):\n",
        "        if count2d[i][j]>=20: \n",
        "          print(count2d[i][j])\n",
        "          print(count2d[i][j])"
      ],
      "metadata": {
        "colab": {
          "base_uri": "https://localhost:8080/"
        },
        "id": "wsEOMMZn5e3h",
        "outputId": "8e831697-8c04-45ba-e736-63fd4b60e8ca"
      },
      "execution_count": 191,
      "outputs": [
        {
          "output_type": "stream",
          "name": "stdout",
          "text": [
            "21\n",
            "21\n",
            "20\n",
            "20\n",
            "29\n",
            "29\n",
            "27\n",
            "27\n",
            "25\n",
            "25\n",
            "22\n",
            "22\n",
            "21\n",
            "21\n",
            "25\n",
            "25\n",
            "25\n",
            "25\n",
            "22\n",
            "22\n",
            "22\n",
            "22\n",
            "27\n",
            "27\n",
            "23\n",
            "23\n",
            "23\n",
            "23\n",
            "24\n",
            "24\n",
            "22\n",
            "22\n"
          ]
        }
      ]
    },
    {
      "cell_type": "code",
      "source": [
        ""
      ],
      "metadata": {
        "id": "P7R4AzfbHIZw"
      },
      "execution_count": 191,
      "outputs": []
    },
    {
      "cell_type": "code",
      "source": [
        ""
      ],
      "metadata": {
        "id": "GLnkxnTkHbui"
      },
      "execution_count": null,
      "outputs": []
    }
  ]
}